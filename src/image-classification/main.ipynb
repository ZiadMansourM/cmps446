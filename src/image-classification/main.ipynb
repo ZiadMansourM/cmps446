{
 "cells": [
  {
   "cell_type": "code",
   "execution_count": 31,
   "metadata": {},
   "outputs": [],
   "source": [
    "import cv2"
   ]
  },
  {
   "cell_type": "code",
   "execution_count": 32,
   "metadata": {},
   "outputs": [],
   "source": [
    "image = cv2.imread(\"8-bit-mario.png\")"
   ]
  },
  {
   "cell_type": "code",
   "execution_count": 33,
   "metadata": {},
   "outputs": [
    {
     "name": "stdout",
     "output_type": "stream",
     "text": [
      "(1200, 840, 3) uint8 255 0\n"
     ]
    }
   ],
   "source": [
    "print(image.shape, image.dtype, image.max(), image.min())"
   ]
  },
  {
   "cell_type": "code",
   "execution_count": 34,
   "metadata": {},
   "outputs": [
    {
     "name": "stdout",
     "output_type": "stream",
     "text": [
      "(1200, 840) uint8 255 0\n"
     ]
    }
   ],
   "source": [
    "# convert to grayscale\n",
    "gray = cv2.cvtColor(image, cv2.COLOR_RGB2GRAY)\n",
    "print(gray.shape, gray.dtype, gray.max(), gray.min())"
   ]
  },
  {
   "cell_type": "code",
   "execution_count": 35,
   "metadata": {},
   "outputs": [
    {
     "name": "stdout",
     "output_type": "stream",
     "text": [
      "(24, 17) uint8 255 0\n"
     ]
    }
   ],
   "source": [
    "# Shrink image by 90 %\n",
    "small = cv2.resize(gray, None, fx=0.1, fy=0.1)\n",
    "small = cv2.resize(small, None, fx=0.2, fy=0.2)\n",
    "print(small.shape, small.dtype, small.max(), small.min())"
   ]
  },
  {
   "cell_type": "code",
   "execution_count": 36,
   "metadata": {},
   "outputs": [
    {
     "data": {
      "text/plain": [
       "True"
      ]
     },
     "execution_count": 36,
     "metadata": {},
     "output_type": "execute_result"
    }
   ],
   "source": [
    "# save small to file\n",
    "import numpy as np\n",
    "cv2.imwrite(\"small.png\", small)"
   ]
  },
  {
   "cell_type": "code",
   "execution_count": 37,
   "metadata": {},
   "outputs": [],
   "source": [
    "# Use Pandas to print small as a table\n",
    "import pandas as pd\n",
    "pd.DataFrame(small)\n",
    "# Save dataframe as .png file\n",
    "pd.DataFrame(small).to_csv(\"small.csv\")"
   ]
  }
 ],
 "metadata": {
  "kernelspec": {
   "display_name": ".venv",
   "language": "python",
   "name": "python3"
  },
  "language_info": {
   "codemirror_mode": {
    "name": "ipython",
    "version": 3
   },
   "file_extension": ".py",
   "mimetype": "text/x-python",
   "name": "python",
   "nbconvert_exporter": "python",
   "pygments_lexer": "ipython3",
   "version": "3.11.5"
  }
 },
 "nbformat": 4,
 "nbformat_minor": 2
}
