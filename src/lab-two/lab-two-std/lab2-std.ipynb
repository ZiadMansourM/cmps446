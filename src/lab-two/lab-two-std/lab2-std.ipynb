{
 "cells": [
  {
   "cell_type": "markdown",
   "metadata": {},
   "source": [
    "## Lab 2: Convolution & Discrete Fourier Transform"
   ]
  },
  {
   "cell_type": "code",
   "execution_count": null,
   "metadata": {},
   "outputs": [],
   "source": [
    "import os\n",
    "import matplotlib.pyplot as plt\n",
    "import numpy as np\n",
    "from scipy import fftpack\n",
    "from scipy.signal import convolve2d\n",
    "import skimage.io as io\n",
    "from skimage.color import rgba2rgb, rgb2gray\n",
    "from skimage.util import random_noise\n",
    "from skimage.exposure import rescale_intensity\n",
    "import utils"
   ]
  },
  {
   "cell_type": "markdown",
   "metadata": {},
   "source": [
    "#### Part 1: Understanding the Concept of Inverse DFT\n",
    "In this part, we will construct matrices in the frequency domain and see how they look in the 2D space domain."
   ]
  },
  {
   "cell_type": "code",
   "execution_count": null,
   "metadata": {},
   "outputs": [],
   "source": [
    "def plot_image_from_freq(freq_domain_mat: np.ndarray) -> None:\n",
    "    \"\"\"\n",
    "    Maps a matrix from frequency domain to space domain and plots it.\n",
    "\n",
    "    Parameters:\n",
    "        freq_domain_mat (numpy.ndarray): The matrix in the frequency domain.\n",
    "\n",
    "    Note:\n",
    "        - The function performs an inverse FFT to transform the matrix from the frequency\n",
    "            domain to the space domain.\n",
    "        - The resulting matrix may contain complex numbers, so the magnitude is taken for plotting.\n",
    "        - Inverse FFT is a fast version of inverse DFT.\n",
    "    \"\"\"\n",
    "    inverse_fft_mat = fftpack.ifft2(freq_domain_mat)\n",
    "    image = np.abs(inverse_fft_mat)\n",
    "    utils.show_images([image], titles=['Image in Space Domain'])"
   ]
  },
  {
   "cell_type": "code",
   "execution_count": null,
   "metadata": {},
   "outputs": [],
   "source": [
    "\"\"\"We will first try to construct a matrix in the frequency domain that makes \n",
    "a vertically moving ripple in the space domain.\n",
    "\"\"\"\n",
    "\n",
    "freq_domain_mat: np.ndarray = np.zeros([21, 21])\n",
    "\n",
    "# The choice of the value '1' is arbitrary\n",
    "freq_domain_mat[9, 10] = 1\n",
    "freq_domain_mat[11, 10] = 1\n",
    "\n",
    "plot_image_from_freq(freq_domain_mat)"
   ]
  },
  {
   "cell_type": "code",
   "execution_count": null,
   "metadata": {},
   "outputs": [],
   "source": [
    "\"\"\"TODO: construct a matrix in the frequency domain that makes a HORIZONTALLY moving\n",
    "ripple in the space domain.\n",
    "\"\"\"\n",
    "freq_domain_mat: np.ndarray = np.zeros([21, 21])\n",
    "# freq_domain_mat[<TODO>, <TODO>] = 1\n",
    "# freq_domain_mat[<TODO>, <TODO>] = 1\n",
    "plot_image_from_freq(freq_domain_mat)"
   ]
  },
  {
   "cell_type": "code",
   "execution_count": null,
   "metadata": {},
   "outputs": [],
   "source": [
    "\"\"\"TODO: construct a matrix in the frequency domain that makes a DIAGONALLY moving\n",
    "ripple in the space domain.\n",
    "\"\"\"\n",
    "freq_domain_mat: np.ndarray = np.zeros([21, 21])\n",
    "# freq_domain_mat[<TODO>, <TODO>] = 1\n",
    "# freq_domain_mat[<TODO>, <TODO>] = 1\n",
    "plot_image_from_freq(freq_domain_mat)"
   ]
  },
  {
   "cell_type": "markdown",
   "metadata": {},
   "source": [
    "We recommend you try to construct different matrices like the previous ones and see if their space domain representation is what you expect.\n",
    "<hr/>"
   ]
  },
  {
   "cell_type": "markdown",
   "metadata": {},
   "source": [
    "#### Part 2: Understanding Image Filtering in the Frequency Domain\n",
    "\n",
    "In this part, we will try to alter an image by multiplying it by a filter in the frequency domain."
   ]
  },
  {
   "cell_type": "code",
   "execution_count": null,
   "metadata": {},
   "outputs": [],
   "source": [
    "import numpy as np\n",
    "import matplotlib.pyplot as plt\n",
    "from scipy import fftpack\n",
    "\n",
    "def apply_filter_in_freq(img: np.ndarray, f: np.ndarray) -> None:\n",
    "    \"\"\"Apply a filter to an image in the frequency domain and plot \n",
    "    multiple images describing the process.\n",
    "\n",
    "    Parameters:\n",
    "        img (np.ndarray): The input image.\n",
    "        f (np.ndarray): The filter to be applied.\n",
    "\n",
    "    Returns:\n",
    "        None\n",
    "    \n",
    "    Note:\n",
    "        - We supply the img shape here to make both the filter and img \n",
    "        have the same shape to be able to multiply.\n",
    "        - Used log for better intensity scale, shift to make zero freq at center.\n",
    "    \"\"\"\n",
    "    img_in_freq = fftpack.fft2(img)\n",
    "    \n",
    "    filter_in_freq = fftpack.fft2(f, img.shape)\n",
    "    filtered_img_in_freq = np.multiply(img_in_freq, filter_in_freq)\n",
    "    filtered_img = fftpack.ifft2(filtered_img_in_freq)\n",
    "    \n",
    "    utils.show_images(\n",
    "        [\n",
    "            img, \n",
    "            fftpack.fftshift(np.log(np.abs(img_in_freq)+1)), \n",
    "            fftpack.fftshift(np.log(np.abs(filter_in_freq)+1)), \n",
    "            fftpack.fftshift(np.log(np.abs(filtered_img_in_freq)+1)), \n",
    "            np.abs(filtered_img)\n",
    "        ],\n",
    "        [\n",
    "            'Image', \n",
    "            'Image in Freq. Domain', \n",
    "            'Filter in Freq. Domain', \n",
    "            'Filtered Image in Freq. Domain', \n",
    "            'Filtered Image'\n",
    "        ]\n",
    "    )"
   ]
  },
  {
   "cell_type": "code",
   "execution_count": null,
   "metadata": {},
   "outputs": [],
   "source": [
    "\"\"\"Example: Let's try some filters on a sample image\"\"\"\n",
    "img: np.ndarray = rgb2gray(rgba2rgb(io.imread(os.path.join('imgs', 'Picture2.png'))))\n",
    "\n",
    "\"\"\"This is a low pass filter (more on that in the upcoming lectures)\"\"\"\n",
    "low_pass_filter: np.ndarray = np.array([\n",
    "    [1, 2, 1],\n",
    "    [2, 4, 2],\n",
    "    [1, 2, 1]\n",
    "])\n",
    "\n",
    "apply_filter_in_freq(img, low_pass_filter) "
   ]
  },
  {
   "cell_type": "code",
   "execution_count": null,
   "metadata": {},
   "outputs": [],
   "source": [
    "\"\"\"This is a high pass filter (more on that in the upcoming lectures)\"\"\"\n",
    "\n",
    "high_pass_filter: np.ndarray = np.array([\n",
    "    [0, -1, 0],\n",
    "    [-1, 4, -1],\n",
    "    [0, -1, 0]\n",
    "])\n",
    "\n",
    "apply_filter_in_freq(img, high_pass_filter)"
   ]
  },
  {
   "cell_type": "markdown",
   "metadata": {},
   "source": [
    "#### TODO\n",
    "What happened to the filtered images in the two previous examples and why?"
   ]
  },
  {
   "cell_type": "code",
   "execution_count": null,
   "metadata": {},
   "outputs": [],
   "source": [
    "utils.show_3d_image_filtering_in_freq(img, high_pass_filter)"
   ]
  },
  {
   "cell_type": "code",
   "execution_count": null,
   "metadata": {},
   "outputs": [],
   "source": [
    "utils.show_3d_image_filtering_in_freq(img, low_pass_filter)"
   ]
  },
  {
   "cell_type": "markdown",
   "metadata": {},
   "source": [
    "#### Part 3: Understanding Image Filtering in the Space Domain Through Convolution \n",
    "\n",
    "In this part, you are required to convolve a couple of filters on imgs/bird.jpg which are shown in the next figure.\n",
    "\n",
    "<img src='imgs/filters.PNG'></img>\n",
    "\n",
    "#### Functions you might need:\n",
    "-> convolve2d(img, f), for documentation: <br>\n",
    "\n",
    "Visit this link (https://docs.scipy.org/doc/scipy/reference/generated/scipy.signal.convolve2d.html)\n",
    "<br>\n",
    "Or\n",
    "<br>\n",
    "Press shift+tab after writing 'convolve2d' in a code cell\n",
    "\n",
    "-> random_noise(img, mode) (https://scikit-image.org/docs/dev/api/skimage.util.html#skimage.util.random_noise)"
   ]
  },
  {
   "cell_type": "code",
   "execution_count": null,
   "metadata": {},
   "outputs": [],
   "source": [
    "# TODO: Read an image and convert it to grayscale\n",
    "# img: np.ndarray = <TODO>\n",
    "\n",
    "# TODO: Apply noise to the image and save it in another variable\n",
    "# noisy_img: np.ndarray = <TODO>\n",
    "\n",
    "# TODO: Construct the required filters (hint: you can do it as we did in the previous part)\n",
    "# f1 = <TODO>\n",
    "\n",
    "# f2 = <TODO>\n",
    "\n",
    "# f3 = <TODO>\n",
    "                     \n",
    "# f4 = <TODO>\n",
    "\n",
    "# TODO: Convolve the noisy image with f1 and the rest of the filters with the original image\n",
    "img_f1 = convolve2d(noisy_img, f1)\n",
    "img_f2 = convolve2d(img, f2)\n",
    "img_f3 = convolve2d(img, f3)\n",
    "img_f4 = convolve2d(img, f4)\n",
    "\n",
    "\n",
    "# Show the images\n",
    "utils.show_images([rescale_intensity(x, in_range=(0.0,1.0), out_range=(0, 255)) for x in [img,noisy_img, img_f1,img_f2,img_f3,img_f4]],['Original','Noisy Image', 'Filtered 1','Filtered 2','Filtered 3','Filtered 4'])"
   ]
  }
 ],
 "metadata": {
  "interpreter": {
   "hash": "b44ee1d2ec9a89c7e6535516a054e7798c79fc46caad6b3e65314fe0561eeba4"
  },
  "kernelspec": {
   "display_name": "Python 3.6.13 64-bit ('classificationlab': conda)",
   "name": "python3"
  },
  "language_info": {
   "codemirror_mode": {
    "name": "ipython",
    "version": 3
   },
   "file_extension": ".py",
   "mimetype": "text/x-python",
   "name": "python",
   "nbconvert_exporter": "python",
   "pygments_lexer": "ipython3",
   "version": "3.11.5"
  }
 },
 "nbformat": 4,
 "nbformat_minor": 2
}
