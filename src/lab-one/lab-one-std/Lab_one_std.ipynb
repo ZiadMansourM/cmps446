{
 "cells": [
  {
   "cell_type": "code",
   "execution_count": null,
   "metadata": {},
   "outputs": [],
   "source": [
    "import os\n",
    "from pathlib import Path\n",
    "from typing import Optional, Union, Final\n",
    "\n",
    "import numpy as np\n",
    "import matplotlib.pyplot as plt\n",
    "from matplotlib.pyplot import bar\n",
    "from skimage.color import rgb2gray, rgb2hsv, rgba2rgb\n",
    "from skimage.exposure import histogram\n",
    "import skimage.io as io\n",
    "from skimage.util import random_noise\n"
   ]
  },
  {
   "cell_type": "markdown",
   "metadata": {},
   "source": [
    "#### Utils code\n",
    "You aren't required to understand these functions, use it as-is."
   ]
  },
  {
   "cell_type": "code",
   "execution_count": null,
   "metadata": {},
   "outputs": [],
   "source": [
    "def show_images(images: list[np.ndarray], titles: Optional[list[Union[str, None]]] = None) -> None:\n",
    "    \"\"\"Display a list of images with optional titles.\n",
    "\n",
    "    Args:\n",
    "        images (List[np.ndarray]): List of images to display.\n",
    "        titles (Optional[List[Union[str, None]]]): List of titles for the images. If None, default titles will be used.\n",
    "\n",
    "    Returns:\n",
    "        None\n",
    "    \"\"\"\n",
    "    n_ims = len(images)\n",
    "    if titles is None:\n",
    "        titles = [f'({i + 1})' for i in range(n_ims)]\n",
    "\n",
    "    fig = plt.figure()\n",
    "    for n, (image, title) in enumerate(zip(images, titles), start=1):\n",
    "        a = fig.add_subplot(1, n_ims, n)\n",
    "        if image.ndim == 2:\n",
    "            plt.gray()\n",
    "        plt.imshow(image)\n",
    "        a.set_title(title)\n",
    "\n",
    "    fig.set_size_inches(np.array(fig.get_size_inches()) * n_ims)\n",
    "    plt.show()"
   ]
  },
  {
   "cell_type": "code",
   "execution_count": null,
   "metadata": {},
   "outputs": [],
   "source": [
    "def show_histogram(histogram_image: tuple) -> None:\n",
    "    \"\"\"\n",
    "    Show a histogram for a grayscale image.\n",
    "\n",
    "    Parameters:\n",
    "        histogram_image (Tuple): A tuple containing histogram data.\n",
    "\n",
    "    IMPORTANT Note:\n",
    "        - The grayscale image should range from 0 to 1.\n",
    "        - The histogram_image should contain histogram data in the format (values, bins).\n",
    "    \"\"\"\n",
    "    plt.figure()\n",
    "    bar(histogram_image[1] * 255, histogram_image[0], width=0.8, align='center')"
   ]
  },
  {
   "cell_type": "code",
   "execution_count": null,
   "metadata": {},
   "outputs": [],
   "source": [
    "BASE_PATH: Final[Path] = Path().resolve()\n",
    "DATA_PATH: Final[Path] = os.path.join(BASE_PATH, 'data')\n",
    "print(f\"BASE_PATH: {BASE_PATH}\")\n",
    "print(f\"DATA_PATH: {DATA_PATH}\")"
   ]
  },
  {
   "cell_type": "markdown",
   "metadata": {},
   "source": [
    "#### Example reading and showing an image"
   ]
  },
  {
   "cell_type": "code",
   "execution_count": null,
   "metadata": {},
   "outputs": [],
   "source": [
    "pyramids = io.imread(os.path.join(DATA_PATH, 'pyramids.jpeg'))\n",
    "io.imshow(pyramids)\n",
    "io.show()"
   ]
  },
  {
   "cell_type": "markdown",
   "metadata": {},
   "source": [
    "#### Play with image"
   ]
  },
  {
   "cell_type": "code",
   "execution_count": null,
   "metadata": {},
   "outputs": [],
   "source": [
    "print(f\"pyramids.shape: {pyramids.shape}\")\n",
    "print(f\"pyramids.dtype: {pyramids.dtype}\")\n",
    "print(f\"pyramids.min(): {pyramids.min()}\")\n",
    "print(f\"pyramids.max(): {pyramids.max()}\")\n",
    "# print(pyramids)"
   ]
  },
  {
   "cell_type": "code",
   "execution_count": null,
   "metadata": {},
   "outputs": [],
   "source": [
    "'''\n",
    "@TODO:\n",
    "Requirement #1 \n",
    "    1. Read and print image 'coffee'.\n",
    "    2. Show and print half of the image.\n",
    "    -- hint: use the attribute shape of numpy to get the image object dimensions.\n",
    "'''"
   ]
  },
  {
   "cell_type": "code",
   "execution_count": null,
   "metadata": {},
   "outputs": [],
   "source": [
    "'''\n",
    "@TODO:\n",
    "Requirement #2 (RGB to gray and HSV):\n",
    "    1. Write a function 'gray_image' that takes an image as input, then\n",
    "        - Get the gray scale of the image.\n",
    "        - Display original image and the gray scale \"side by side\" (subplot).\n",
    "            -- hint: use rgb2gray to convert RGB image to grayscale image.\n",
    "        - test your function with the image 'pyramids'.\n",
    "    \n",
    "    2- Write a function 'HSV_image' that takes an image as input, then\n",
    "        - show the RGB image and the (3 channels of HSV image each channel) \"side by side\" (subplot).\n",
    "            -- hints: \n",
    "                - Use rgb2hsv (to get the hsv representation of the image).\n",
    "                - To separate the Hue, Saturation and Value channels, use hsvImg[:,:,X], \n",
    "                    where hsvImg is the hsv representation of the image. Hue is the first \n",
    "                    channel, Saturation is the second and value is the last channel.\n",
    "        - test your function for the images in HSV Folder. And comment on the results.\n",
    "'''"
   ]
  },
  {
   "cell_type": "code",
   "execution_count": null,
   "metadata": {},
   "outputs": [],
   "source": [
    "\"\"\"\n",
    "1. Write a function 'gray_image' that takes an image as input, then\n",
    "    - Get the gray scale of the image.\n",
    "    - Display original image and the gray scale \"side by side\" (subplot).\n",
    "        -- hint: use rgb2gray to convert RGB image to grayscale image.\n",
    "    - test your function with the image 'pyramids'.\n",
    "\"\"\""
   ]
  },
  {
   "cell_type": "code",
   "execution_count": null,
   "metadata": {},
   "outputs": [],
   "source": [
    "\"\"\"\n",
    "2- Write a function 'hsv_image' that takes an image as input, then\n",
    "    - show the RGB image and the (3 channels of HSV image each channel) \"side by side\" (subplot).\n",
    "        -- hints: \n",
    "            - Use rgb2hsv (to get the hsv representation of the image).\n",
    "            - To separate the Hue, Saturation and Value channels, use hsvImg[:,:,X], \n",
    "                where hsvImg is the hsv representation of the image. Hue is the first \n",
    "                channel, Saturation is the second and value is the last channel.\n",
    "    - test your function for the images in HSV Folder. And comment on the results. \n",
    "\"\"\""
   ]
  },
  {
   "cell_type": "code",
   "execution_count": null,
   "metadata": {},
   "outputs": [],
   "source": [
    "\"\"\"\n",
    "Requirement #3 (Noise):\n",
    "    -- http://scikit-image.org/docs/dev/api/skimage.util.html#skimage.util.random_noise\n",
    "\n",
    "    1. For an image of your choice \"the effect of noise must be obvious\":\n",
    "        - Read the image.\n",
    "        - Convert it to grayscale.\n",
    "        - Apply salt & pepper noise with \n",
    "            amount eq \"0.05, 0.5 and 0.9\"\n",
    "\n",
    "    2. From the other images. Recommend one image that won’t be greatly affected by the noise and state why.\n",
    "\"\"\""
   ]
  },
  {
   "cell_type": "code",
   "execution_count": null,
   "metadata": {},
   "outputs": [],
   "source": [
    "\"\"\"\n",
    "1. For an image of your choice \"the effect of noise must be obvious\":\n",
    "    - Read the image.\n",
    "    - Convert it to grayscale.\n",
    "    - Apply salt & pepper noise with \n",
    "        amount eq \"0.05, 0.5 and 0.9\"\n",
    "\"\"\""
   ]
  },
  {
   "cell_type": "code",
   "execution_count": null,
   "metadata": {},
   "outputs": [],
   "source": [
    "\"\"\"\n",
    "2. From the other images. Recommend one image that won’t be greatly affected by the noise and state why.\n",
    "\"\"\""
   ]
  },
  {
   "cell_type": "code",
   "execution_count": null,
   "metadata": {},
   "outputs": [],
   "source": [
    "'''\n",
    "Requirement #4 (Histogram):\n",
    "    1. For the given images (in histogram folder): \n",
    "        - Read the image.\n",
    "        - Calc histogram and show it.\n",
    "        -- Hint: Use histogram (image) to get histogram. Try different values \n",
    "            for nbins (256,64,8), What does it mean?\n",
    "            and use function show_histogram.\n",
    "    2. Draw a grey-scale image that has uniform histogram \n",
    "        same number of pixels for all intensity levels, using code only. \n",
    "        Let the size of the image be 256x256.\n",
    "        -- hint: use np.ones to draw image with ones.\n",
    "'''"
   ]
  },
  {
   "cell_type": "code",
   "execution_count": null,
   "metadata": {},
   "outputs": [],
   "source": [
    "\"\"\"\n",
    "1. For the given images (in histogram folder): \n",
    "    - Read the image.\n",
    "    - Calc histogram and show it.\n",
    "    -- Hint: Use histogram (image) to get histogram. Try different values \n",
    "        for nbins (256,64,8), What does it mean?\n",
    "        and use function show_histogram.\n",
    "\"\"\""
   ]
  },
  {
   "cell_type": "code",
   "execution_count": null,
   "metadata": {},
   "outputs": [],
   "source": [
    "\"\"\"\n",
    "2. Draw a grey-scale image that has uniform histogram \n",
    "    same number of pixels for all intensity levels, using code only. \n",
    "    Let the size of the image be 256x256.\n",
    "    -- hint: use np.ones to draw image with ones.\n",
    "\"\"\""
   ]
  }
 ],
 "metadata": {
  "kernelspec": {
   "display_name": "Python 3",
   "language": "python",
   "name": "python3"
  },
  "language_info": {
   "codemirror_mode": {
    "name": "ipython",
    "version": 3
   },
   "file_extension": ".py",
   "mimetype": "text/x-python",
   "name": "python",
   "nbconvert_exporter": "python",
   "pygments_lexer": "ipython3",
   "version": "3.11.5"
  }
 },
 "nbformat": 4,
 "nbformat_minor": 2
}
