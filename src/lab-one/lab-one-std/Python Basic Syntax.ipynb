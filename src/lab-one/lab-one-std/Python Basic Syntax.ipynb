{
 "cells": [
  {
   "cell_type": "markdown",
   "metadata": {},
   "source": [
    "#### Python types\n",
    "In python you can declare variables without specifying the type of data it is going to hold.\n",
    "Python is a dynamically typed language. \n",
    "\n",
    "Duck typing: If it walks like a duck and quacks like a duck, then it must be a duck.\n",
    "\n",
    "REMEMBER: Type hinting is a way to specify the type of the variable. It is not enforced by the interpreter. "
   ]
  },
  {
   "cell_type": "code",
   "execution_count": 1,
   "metadata": {},
   "outputs": [
    {
     "name": "stdout",
     "output_type": "stream",
     "text": [
      "3 True Hello World\n",
      "CMPS446: Hello World, by your favv TA.\n"
     ]
    }
   ],
   "source": [
    "from typing import Final\n",
    "\n",
    "COURSE_NAME: Final[str] = \"CMPS446\"\n",
    "var_one: int = 3\n",
    "var_two: bool = True\n",
    "var_three: str = \"Hello World\"\n",
    "print(var_one, var_two, var_three)\n",
    "var_four: str = \"your favv TA\"\n",
    "print(f\"{COURSE_NAME}: {var_three}, by {var_four}.\")"
   ]
  },
  {
   "cell_type": "markdown",
   "metadata": {},
   "source": [
    "#### Managing Paths in Python"
   ]
  },
  {
   "cell_type": "code",
   "execution_count": 2,
   "metadata": {},
   "outputs": [
    {
     "name": "stdout",
     "output_type": "stream",
     "text": [
      "BASE_PATH: /Users/ziadh/Desktop/playgroud/image-processing/cmps446/src/lab-one/lab-one-std\n",
      "DATA_PATH: /Users/ziadh/Desktop/playgroud/image-processing/cmps446/src/lab-one/lab-one-std/data\n"
     ]
    }
   ],
   "source": [
    "import os\n",
    "from pathlib import Path \n",
    "\n",
    "BASE_PATH: Final[Path] = Path().resolve()\n",
    "DATA_PATH: Final[Path] = os.path.join(BASE_PATH, 'data')\n",
    "print(f\"BASE_PATH: {BASE_PATH}\")\n",
    "print(f\"DATA_PATH: {DATA_PATH}\")"
   ]
  },
  {
   "cell_type": "markdown",
   "metadata": {},
   "source": [
    "#### Printing in Python"
   ]
  },
  {
   "cell_type": "code",
   "execution_count": 3,
   "metadata": {},
   "outputs": [],
   "source": [
    "\"\"\"Printing to file in Python\n",
    "Example logging to a file\n",
    "\"\"\"\n",
    "log_file_path: Final[Path] = os.path.join(BASE_PATH, \"output\", \"output.log\")\n",
    "\n",
    "def log_to_file(file_path: Path, message: str) -> None:\n",
    "    with open(file_path, \"w\") as f:\n",
    "        import datetime\n",
    "        timestamp: datetime = datetime.datetime.now().strftime(\"%Y-%m-%d %H:%M:%S\")\n",
    "        log_message: str = f\"[{timestamp}] {message}\"\n",
    "        print(log_message, file=f)\n",
    "\n",
    "log_to_file(log_file_path, \"Hello World!\")"
   ]
  },
  {
   "cell_type": "markdown",
   "metadata": {},
   "source": [
    "#### Basics of division in Python"
   ]
  },
  {
   "cell_type": "code",
   "execution_count": 4,
   "metadata": {},
   "outputs": [
    {
     "name": "stdout",
     "output_type": "stream",
     "text": [
      "2.5\n",
      "2\n"
     ]
    }
   ],
   "source": [
    "# division in python\n",
    "print(5/2)\n",
    "\n",
    "# floor division or integer division\n",
    "print(5 // 2)"
   ]
  },
  {
   "cell_type": "markdown",
   "metadata": {},
   "source": [
    "#### Looping in Python"
   ]
  },
  {
   "cell_type": "code",
   "execution_count": 5,
   "metadata": {},
   "outputs": [
    {
     "name": "stdout",
     "output_type": "stream",
     "text": [
      "1\n",
      "2\n",
      "3\n",
      "4\n",
      "5\n",
      "0\n",
      "1\n",
      "2\n",
      "3\n",
      "4\n",
      "0\n",
      "10,000\n",
      "20,000\n",
      "30,000\n",
      "40,000\n",
      "50,000\n",
      "60,000\n",
      "70,000\n",
      "80,000\n",
      "90,000\n",
      "100,000\n",
      "110,000\n",
      "120,000\n",
      "130,000\n",
      "140,000\n",
      "150,000\n",
      "160,000\n",
      "170,000\n",
      "180,000\n",
      "190,000\n",
      "200,000\n",
      "210,000\n",
      "220,000\n",
      "230,000\n",
      "240,000\n",
      "250,000\n",
      "260,000\n",
      "270,000\n",
      "280,000\n",
      "290,000\n",
      "300,000\n",
      "310,000\n",
      "320,000\n",
      "330,000\n",
      "340,000\n",
      "350,000\n",
      "360,000\n",
      "370,000\n",
      "380,000\n",
      "390,000\n",
      "400,000\n",
      "410,000\n",
      "420,000\n",
      "430,000\n",
      "440,000\n",
      "450,000\n",
      "460,000\n",
      "470,000\n",
      "480,000\n",
      "490,000\n",
      "500,000\n",
      "510,000\n",
      "520,000\n",
      "530,000\n",
      "540,000\n",
      "550,000\n",
      "560,000\n",
      "570,000\n",
      "580,000\n",
      "590,000\n",
      "600,000\n",
      "610,000\n",
      "620,000\n",
      "630,000\n",
      "640,000\n",
      "650,000\n",
      "660,000\n",
      "670,000\n",
      "680,000\n",
      "690,000\n",
      "700,000\n",
      "710,000\n",
      "720,000\n",
      "730,000\n",
      "740,000\n",
      "750,000\n",
      "760,000\n",
      "770,000\n",
      "780,000\n",
      "790,000\n",
      "800,000\n",
      "810,000\n",
      "820,000\n",
      "830,000\n",
      "840,000\n",
      "850,000\n",
      "860,000\n",
      "870,000\n",
      "880,000\n",
      "890,000\n",
      "900,000\n",
      "910,000\n",
      "920,000\n",
      "930,000\n",
      "940,000\n",
      "950,000\n",
      "960,000\n",
      "970,000\n",
      "980,000\n",
      "990,000\n",
      "2\n",
      "4\n",
      "[2, 4]\n",
      "2 4\n",
      "2, 4\n"
     ]
    }
   ],
   "source": [
    "array: list[int] = [1, 2, 3, 4, 5]\n",
    "\n",
    "for num in array:\n",
    "    print(num)\n",
    "\n",
    "for i in range(5):\n",
    "    print(i)\n",
    "\n",
    "# range(start, stop, step)\n",
    "for i in range(0, 1_000_000, 10_000):\n",
    "    print(f\"{i:,}\")\n",
    "\n",
    "for num in array:\n",
    "    if num%2 == 0:\n",
    "        print(num)\n",
    "\n",
    "# Usage of list comprehension\n",
    "even_items: list[int] = [num for num in array if num%2 == 0]\n",
    "print(even_items)\n",
    "print(*even_items)\n",
    "print(*even_items, sep=', ')"
   ]
  },
  {
   "cell_type": "markdown",
   "metadata": {},
   "source": [
    "### Array Indexing"
   ]
  },
  {
   "cell_type": "code",
   "execution_count": 6,
   "metadata": {},
   "outputs": [
    {
     "name": "stdout",
     "output_type": "stream",
     "text": [
      "[0, 1, 2]\n",
      "[0 1 2 3 4 5]\n",
      "[0 0 0 3 4 5]\n",
      "[-1  1 -1  3 -1  5]\n",
      "[ 0  1 -1  3  4  5]\n"
     ]
    }
   ],
   "source": [
    "array: list[int] = [0, 1, 2, 3, 4, 5]\n",
    "print(array[:3])\n",
    "\n",
    "import numpy as np\n",
    "\n",
    "second_array: np.ndarray[int] = np.array(array)\n",
    "third_array: np.ndarray[int] = np.copy(second_array)\n",
    "\n",
    "print(third_array)\n",
    "third_array[:3] = 0\n",
    "print(third_array)\n",
    "\n",
    "third_array: np.ndarray[int] = np.copy(second_array)\n",
    "third_array[third_array%2==0] = -1\n",
    "print(third_array)\n",
    "\n",
    "third_array: np.ndarray[int] = np.copy(second_array)\n",
    "third_array[(third_array%2==0) & (third_array==2)] = -1\n",
    "print(third_array)"
   ]
  },
  {
   "cell_type": "code",
   "execution_count": 7,
   "metadata": {},
   "outputs": [
    {
     "name": "stdout",
     "output_type": "stream",
     "text": [
      "[[1 2 3 4 5]\n",
      " [1 2 3 4 5]\n",
      " [1 2 3 4 5]]\n",
      "[[1 2 3 4 5]\n",
      " [1 0 0 4 5]\n",
      " [1 0 0 4 5]]\n"
     ]
    }
   ],
   "source": [
    "original_matrix: np.ndarray[list[int]] = np.array([\n",
    "    [1, 2, 3, 4, 5],\n",
    "    [1, 2, 3, 4, 5],\n",
    "    [1, 2, 3, 4, 5]\n",
    "])\n",
    "\n",
    "copied_matrix: np.ndarray[list[int]] = np.copy(original_matrix)\n",
    "print(copied_matrix)\n",
    "\n",
    "copied_matrix[1:3, 1:3] = 0\n",
    "print(copied_matrix)"
   ]
  },
  {
   "cell_type": "markdown",
   "metadata": {},
   "source": [
    "#### Generate NumbPy arrays"
   ]
  },
  {
   "cell_type": "code",
   "execution_count": 8,
   "metadata": {},
   "outputs": [
    {
     "name": "stdout",
     "output_type": "stream",
     "text": [
      "[[0 0 0 0 0]\n",
      " [0 0 0 0 0]\n",
      " [0 0 0 0 0]\n",
      " [0 0 0 0 0]\n",
      " [0 0 0 0 0]\n",
      " [0 0 0 0 0]]\n",
      "[[1 1 1 1 1]\n",
      " [1 1 1 1 1]\n",
      " [1 1 1 1 1]\n",
      " [1 1 1 1 1]\n",
      " [1 1 1 1 1]\n",
      " [1 1 1 1 1]]\n",
      "(6, 5)\n",
      "6\n"
     ]
    }
   ],
   "source": [
    "zeros_array: np.ndarray[int] = np.zeros(shape=(6, 5), dtype=int)\n",
    "ones_array: np.ndarray[int] = np.ones(shape=(6, 5), dtype=int)\n",
    "\n",
    "print(zeros_array)\n",
    "print(ones_array)\n",
    "print(ones_array.shape)\n",
    "print(ones_array.shape[0])"
   ]
  },
  {
   "cell_type": "markdown",
   "metadata": {},
   "source": [
    "#### Positional and Keyword arguments"
   ]
  },
  {
   "cell_type": "code",
   "execution_count": 9,
   "metadata": {},
   "outputs": [
    {
     "name": "stdout",
     "output_type": "stream",
     "text": [
      "1 2 3\n",
      "1 2 3\n"
     ]
    }
   ],
   "source": [
    "def fun(x: int, y: int, z: int) -> None:\n",
    "    print(x, y, z)\n",
    "    \n",
    "fun(1, 2, 3)\n",
    "fun(x=1, y=2, z=3)"
   ]
  },
  {
   "cell_type": "code",
   "execution_count": 10,
   "metadata": {},
   "outputs": [
    {
     "name": "stdout",
     "output_type": "stream",
     "text": [
      "x is None\n"
     ]
    }
   ],
   "source": [
    "from typing import Optional\n",
    "\n",
    "x: Optional[int] = None\n",
    "print('x is None' if x is None else 'x is not None')"
   ]
  },
  {
   "cell_type": "markdown",
   "metadata": {},
   "source": [
    "#### Convert unit8 images to range 0-1"
   ]
  },
  {
   "cell_type": "code",
   "execution_count": 11,
   "metadata": {},
   "outputs": [
    {
     "name": "stdout",
     "output_type": "stream",
     "text": [
      "[[0.39215686 0.78431373 0.19607843]\n",
      " [0.09803922 0.58823529 0.29411765]\n",
      " [0.         1.         0.11764706]]\n"
     ]
    }
   ],
   "source": [
    "import numpy as np\n",
    "\n",
    "# Create a sample uint8 image\n",
    "uint8_image = np.array([\n",
    "    [100, 200, 50],\n",
    "    [25, 150, 75],\n",
    "    [0, 255, 30]\n",
    "], dtype=np.uint8)\n",
    "\n",
    "# Normalize the uint8 image to the range [0, 1]\n",
    "normalized_image = uint8_image / uint8_image.max()\n",
    "\n",
    "print(normalized_image)"
   ]
  }
 ],
 "metadata": {
  "kernelspec": {
   "display_name": "Python 3 (ipykernel)",
   "language": "python",
   "name": "python3"
  },
  "language_info": {
   "codemirror_mode": {
    "name": "ipython",
    "version": 3
   },
   "file_extension": ".py",
   "mimetype": "text/x-python",
   "name": "python",
   "nbconvert_exporter": "python",
   "pygments_lexer": "ipython3",
   "version": "3.11.5"
  }
 },
 "nbformat": 4,
 "nbformat_minor": 2
}
